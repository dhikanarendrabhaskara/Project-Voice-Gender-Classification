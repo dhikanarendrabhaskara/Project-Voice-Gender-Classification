{
 "cells": [
  {
   "cell_type": "markdown",
   "metadata": {},
   "source": [
    "# 1) Import Libraries and Data"
   ]
  },
  {
   "cell_type": "code",
   "execution_count": 1,
   "metadata": {},
   "outputs": [],
   "source": [
    "import pandas as pd\n",
    "import numpy as np\n",
    "import matplotlib.pyplot as plt\n",
    "import seaborn as sns\n",
    "%matplotlib inline"
   ]
  },
  {
   "cell_type": "code",
   "execution_count": 2,
   "metadata": {},
   "outputs": [
    {
     "ename": "FileNotFoundError",
     "evalue": "[Errno 2] File b'voice.csv' does not exist: b'voice.csv'",
     "output_type": "error",
     "traceback": [
      "\u001b[1;31m---------------------------------------------------------------------------\u001b[0m",
      "\u001b[1;31mFileNotFoundError\u001b[0m                         Traceback (most recent call last)",
      "\u001b[1;32m<ipython-input-2-0fb7f9717e43>\u001b[0m in \u001b[0;36m<module>\u001b[1;34m\u001b[0m\n\u001b[1;32m----> 1\u001b[1;33m \u001b[0mdfVoice\u001b[0m \u001b[1;33m=\u001b[0m \u001b[0mpd\u001b[0m\u001b[1;33m.\u001b[0m\u001b[0mread_csv\u001b[0m\u001b[1;33m(\u001b[0m\u001b[1;34m'voice.csv'\u001b[0m\u001b[1;33m)\u001b[0m\u001b[1;33m;\u001b[0m\u001b[1;33m\u001b[0m\u001b[1;33m\u001b[0m\u001b[0m\n\u001b[0m\u001b[0;32m      2\u001b[0m \u001b[0mdfVoice\u001b[0m\u001b[1;33m.\u001b[0m\u001b[0mhead\u001b[0m\u001b[1;33m(\u001b[0m\u001b[1;33m)\u001b[0m\u001b[1;33m\u001b[0m\u001b[1;33m\u001b[0m\u001b[0m\n",
      "\u001b[1;32m~\\Anaconda3\\lib\\site-packages\\pandas\\io\\parsers.py\u001b[0m in \u001b[0;36mparser_f\u001b[1;34m(filepath_or_buffer, sep, delimiter, header, names, index_col, usecols, squeeze, prefix, mangle_dupe_cols, dtype, engine, converters, true_values, false_values, skipinitialspace, skiprows, skipfooter, nrows, na_values, keep_default_na, na_filter, verbose, skip_blank_lines, parse_dates, infer_datetime_format, keep_date_col, date_parser, dayfirst, cache_dates, iterator, chunksize, compression, thousands, decimal, lineterminator, quotechar, quoting, doublequote, escapechar, comment, encoding, dialect, error_bad_lines, warn_bad_lines, delim_whitespace, low_memory, memory_map, float_precision)\u001b[0m\n\u001b[0;32m    683\u001b[0m         )\n\u001b[0;32m    684\u001b[0m \u001b[1;33m\u001b[0m\u001b[0m\n\u001b[1;32m--> 685\u001b[1;33m         \u001b[1;32mreturn\u001b[0m \u001b[0m_read\u001b[0m\u001b[1;33m(\u001b[0m\u001b[0mfilepath_or_buffer\u001b[0m\u001b[1;33m,\u001b[0m \u001b[0mkwds\u001b[0m\u001b[1;33m)\u001b[0m\u001b[1;33m\u001b[0m\u001b[1;33m\u001b[0m\u001b[0m\n\u001b[0m\u001b[0;32m    686\u001b[0m \u001b[1;33m\u001b[0m\u001b[0m\n\u001b[0;32m    687\u001b[0m     \u001b[0mparser_f\u001b[0m\u001b[1;33m.\u001b[0m\u001b[0m__name__\u001b[0m \u001b[1;33m=\u001b[0m \u001b[0mname\u001b[0m\u001b[1;33m\u001b[0m\u001b[1;33m\u001b[0m\u001b[0m\n",
      "\u001b[1;32m~\\Anaconda3\\lib\\site-packages\\pandas\\io\\parsers.py\u001b[0m in \u001b[0;36m_read\u001b[1;34m(filepath_or_buffer, kwds)\u001b[0m\n\u001b[0;32m    455\u001b[0m \u001b[1;33m\u001b[0m\u001b[0m\n\u001b[0;32m    456\u001b[0m     \u001b[1;31m# Create the parser.\u001b[0m\u001b[1;33m\u001b[0m\u001b[1;33m\u001b[0m\u001b[1;33m\u001b[0m\u001b[0m\n\u001b[1;32m--> 457\u001b[1;33m     \u001b[0mparser\u001b[0m \u001b[1;33m=\u001b[0m \u001b[0mTextFileReader\u001b[0m\u001b[1;33m(\u001b[0m\u001b[0mfp_or_buf\u001b[0m\u001b[1;33m,\u001b[0m \u001b[1;33m**\u001b[0m\u001b[0mkwds\u001b[0m\u001b[1;33m)\u001b[0m\u001b[1;33m\u001b[0m\u001b[1;33m\u001b[0m\u001b[0m\n\u001b[0m\u001b[0;32m    458\u001b[0m \u001b[1;33m\u001b[0m\u001b[0m\n\u001b[0;32m    459\u001b[0m     \u001b[1;32mif\u001b[0m \u001b[0mchunksize\u001b[0m \u001b[1;32mor\u001b[0m \u001b[0miterator\u001b[0m\u001b[1;33m:\u001b[0m\u001b[1;33m\u001b[0m\u001b[1;33m\u001b[0m\u001b[0m\n",
      "\u001b[1;32m~\\Anaconda3\\lib\\site-packages\\pandas\\io\\parsers.py\u001b[0m in \u001b[0;36m__init__\u001b[1;34m(self, f, engine, **kwds)\u001b[0m\n\u001b[0;32m    893\u001b[0m             \u001b[0mself\u001b[0m\u001b[1;33m.\u001b[0m\u001b[0moptions\u001b[0m\u001b[1;33m[\u001b[0m\u001b[1;34m\"has_index_names\"\u001b[0m\u001b[1;33m]\u001b[0m \u001b[1;33m=\u001b[0m \u001b[0mkwds\u001b[0m\u001b[1;33m[\u001b[0m\u001b[1;34m\"has_index_names\"\u001b[0m\u001b[1;33m]\u001b[0m\u001b[1;33m\u001b[0m\u001b[1;33m\u001b[0m\u001b[0m\n\u001b[0;32m    894\u001b[0m \u001b[1;33m\u001b[0m\u001b[0m\n\u001b[1;32m--> 895\u001b[1;33m         \u001b[0mself\u001b[0m\u001b[1;33m.\u001b[0m\u001b[0m_make_engine\u001b[0m\u001b[1;33m(\u001b[0m\u001b[0mself\u001b[0m\u001b[1;33m.\u001b[0m\u001b[0mengine\u001b[0m\u001b[1;33m)\u001b[0m\u001b[1;33m\u001b[0m\u001b[1;33m\u001b[0m\u001b[0m\n\u001b[0m\u001b[0;32m    896\u001b[0m \u001b[1;33m\u001b[0m\u001b[0m\n\u001b[0;32m    897\u001b[0m     \u001b[1;32mdef\u001b[0m \u001b[0mclose\u001b[0m\u001b[1;33m(\u001b[0m\u001b[0mself\u001b[0m\u001b[1;33m)\u001b[0m\u001b[1;33m:\u001b[0m\u001b[1;33m\u001b[0m\u001b[1;33m\u001b[0m\u001b[0m\n",
      "\u001b[1;32m~\\Anaconda3\\lib\\site-packages\\pandas\\io\\parsers.py\u001b[0m in \u001b[0;36m_make_engine\u001b[1;34m(self, engine)\u001b[0m\n\u001b[0;32m   1133\u001b[0m     \u001b[1;32mdef\u001b[0m \u001b[0m_make_engine\u001b[0m\u001b[1;33m(\u001b[0m\u001b[0mself\u001b[0m\u001b[1;33m,\u001b[0m \u001b[0mengine\u001b[0m\u001b[1;33m=\u001b[0m\u001b[1;34m\"c\"\u001b[0m\u001b[1;33m)\u001b[0m\u001b[1;33m:\u001b[0m\u001b[1;33m\u001b[0m\u001b[1;33m\u001b[0m\u001b[0m\n\u001b[0;32m   1134\u001b[0m         \u001b[1;32mif\u001b[0m \u001b[0mengine\u001b[0m \u001b[1;33m==\u001b[0m \u001b[1;34m\"c\"\u001b[0m\u001b[1;33m:\u001b[0m\u001b[1;33m\u001b[0m\u001b[1;33m\u001b[0m\u001b[0m\n\u001b[1;32m-> 1135\u001b[1;33m             \u001b[0mself\u001b[0m\u001b[1;33m.\u001b[0m\u001b[0m_engine\u001b[0m \u001b[1;33m=\u001b[0m \u001b[0mCParserWrapper\u001b[0m\u001b[1;33m(\u001b[0m\u001b[0mself\u001b[0m\u001b[1;33m.\u001b[0m\u001b[0mf\u001b[0m\u001b[1;33m,\u001b[0m \u001b[1;33m**\u001b[0m\u001b[0mself\u001b[0m\u001b[1;33m.\u001b[0m\u001b[0moptions\u001b[0m\u001b[1;33m)\u001b[0m\u001b[1;33m\u001b[0m\u001b[1;33m\u001b[0m\u001b[0m\n\u001b[0m\u001b[0;32m   1136\u001b[0m         \u001b[1;32melse\u001b[0m\u001b[1;33m:\u001b[0m\u001b[1;33m\u001b[0m\u001b[1;33m\u001b[0m\u001b[0m\n\u001b[0;32m   1137\u001b[0m             \u001b[1;32mif\u001b[0m \u001b[0mengine\u001b[0m \u001b[1;33m==\u001b[0m \u001b[1;34m\"python\"\u001b[0m\u001b[1;33m:\u001b[0m\u001b[1;33m\u001b[0m\u001b[1;33m\u001b[0m\u001b[0m\n",
      "\u001b[1;32m~\\Anaconda3\\lib\\site-packages\\pandas\\io\\parsers.py\u001b[0m in \u001b[0;36m__init__\u001b[1;34m(self, src, **kwds)\u001b[0m\n\u001b[0;32m   1915\u001b[0m         \u001b[0mkwds\u001b[0m\u001b[1;33m[\u001b[0m\u001b[1;34m\"usecols\"\u001b[0m\u001b[1;33m]\u001b[0m \u001b[1;33m=\u001b[0m \u001b[0mself\u001b[0m\u001b[1;33m.\u001b[0m\u001b[0musecols\u001b[0m\u001b[1;33m\u001b[0m\u001b[1;33m\u001b[0m\u001b[0m\n\u001b[0;32m   1916\u001b[0m \u001b[1;33m\u001b[0m\u001b[0m\n\u001b[1;32m-> 1917\u001b[1;33m         \u001b[0mself\u001b[0m\u001b[1;33m.\u001b[0m\u001b[0m_reader\u001b[0m \u001b[1;33m=\u001b[0m \u001b[0mparsers\u001b[0m\u001b[1;33m.\u001b[0m\u001b[0mTextReader\u001b[0m\u001b[1;33m(\u001b[0m\u001b[0msrc\u001b[0m\u001b[1;33m,\u001b[0m \u001b[1;33m**\u001b[0m\u001b[0mkwds\u001b[0m\u001b[1;33m)\u001b[0m\u001b[1;33m\u001b[0m\u001b[1;33m\u001b[0m\u001b[0m\n\u001b[0m\u001b[0;32m   1918\u001b[0m         \u001b[0mself\u001b[0m\u001b[1;33m.\u001b[0m\u001b[0munnamed_cols\u001b[0m \u001b[1;33m=\u001b[0m \u001b[0mself\u001b[0m\u001b[1;33m.\u001b[0m\u001b[0m_reader\u001b[0m\u001b[1;33m.\u001b[0m\u001b[0munnamed_cols\u001b[0m\u001b[1;33m\u001b[0m\u001b[1;33m\u001b[0m\u001b[0m\n\u001b[0;32m   1919\u001b[0m \u001b[1;33m\u001b[0m\u001b[0m\n",
      "\u001b[1;32mpandas\\_libs\\parsers.pyx\u001b[0m in \u001b[0;36mpandas._libs.parsers.TextReader.__cinit__\u001b[1;34m()\u001b[0m\n",
      "\u001b[1;32mpandas\\_libs\\parsers.pyx\u001b[0m in \u001b[0;36mpandas._libs.parsers.TextReader._setup_parser_source\u001b[1;34m()\u001b[0m\n",
      "\u001b[1;31mFileNotFoundError\u001b[0m: [Errno 2] File b'voice.csv' does not exist: b'voice.csv'"
     ]
    }
   ],
   "source": [
    "dfVoice = pd.read_csv('voice.csv');\n",
    "dfVoice.head()"
   ]
  },
  {
   "cell_type": "code",
   "execution_count": 3,
   "metadata": {},
   "outputs": [
    {
     "data": {
      "text/plain": [
       "female    1584\n",
       "male      1584\n",
       "Name: label, dtype: int64"
      ]
     },
     "execution_count": 3,
     "metadata": {},
     "output_type": "execute_result"
    }
   ],
   "source": [
    "dfVoice['label'].value_counts()"
   ]
  },
  {
   "cell_type": "markdown",
   "metadata": {},
   "source": [
    "# EDA"
   ]
  },
  {
   "cell_type": "code",
   "execution_count": 4,
   "metadata": {},
   "outputs": [
    {
     "name": "stdout",
     "output_type": "stream",
     "text": [
      "<class 'pandas.core.frame.DataFrame'>\n",
      "RangeIndex: 3168 entries, 0 to 3167\n",
      "Data columns (total 21 columns):\n",
      "meanfreq    3168 non-null float64\n",
      "sd          3168 non-null float64\n",
      "median      3168 non-null float64\n",
      "Q25         3168 non-null float64\n",
      "Q75         3168 non-null float64\n",
      "IQR         3168 non-null float64\n",
      "skew        3168 non-null float64\n",
      "kurt        3168 non-null float64\n",
      "sp.ent      3168 non-null float64\n",
      "sfm         3168 non-null float64\n",
      "mode        3168 non-null float64\n",
      "centroid    3168 non-null float64\n",
      "meanfun     3168 non-null float64\n",
      "minfun      3168 non-null float64\n",
      "maxfun      3168 non-null float64\n",
      "meandom     3168 non-null float64\n",
      "mindom      3168 non-null float64\n",
      "maxdom      3168 non-null float64\n",
      "dfrange     3168 non-null float64\n",
      "modindx     3168 non-null float64\n",
      "label       3168 non-null object\n",
      "dtypes: float64(20), object(1)\n",
      "memory usage: 519.9+ KB\n"
     ]
    }
   ],
   "source": [
    "dfVoice.info()"
   ]
  },
  {
   "cell_type": "code",
   "execution_count": 5,
   "metadata": {},
   "outputs": [
    {
     "data": {
      "text/html": [
       "<div>\n",
       "<style scoped>\n",
       "    .dataframe tbody tr th:only-of-type {\n",
       "        vertical-align: middle;\n",
       "    }\n",
       "\n",
       "    .dataframe tbody tr th {\n",
       "        vertical-align: top;\n",
       "    }\n",
       "\n",
       "    .dataframe thead th {\n",
       "        text-align: right;\n",
       "    }\n",
       "</style>\n",
       "<table border=\"1\" class=\"dataframe\">\n",
       "  <thead>\n",
       "    <tr style=\"text-align: right;\">\n",
       "      <th></th>\n",
       "      <th>meanfreq</th>\n",
       "      <th>sd</th>\n",
       "      <th>median</th>\n",
       "      <th>Q25</th>\n",
       "      <th>Q75</th>\n",
       "      <th>IQR</th>\n",
       "      <th>skew</th>\n",
       "      <th>kurt</th>\n",
       "      <th>sp.ent</th>\n",
       "      <th>sfm</th>\n",
       "      <th>mode</th>\n",
       "      <th>centroid</th>\n",
       "      <th>meanfun</th>\n",
       "      <th>minfun</th>\n",
       "      <th>maxfun</th>\n",
       "      <th>meandom</th>\n",
       "      <th>mindom</th>\n",
       "      <th>maxdom</th>\n",
       "      <th>dfrange</th>\n",
       "      <th>modindx</th>\n",
       "    </tr>\n",
       "  </thead>\n",
       "  <tbody>\n",
       "    <tr>\n",
       "      <td>count</td>\n",
       "      <td>3168.000000</td>\n",
       "      <td>3168.000000</td>\n",
       "      <td>3168.000000</td>\n",
       "      <td>3168.000000</td>\n",
       "      <td>3168.000000</td>\n",
       "      <td>3168.000000</td>\n",
       "      <td>3168.000000</td>\n",
       "      <td>3168.000000</td>\n",
       "      <td>3168.000000</td>\n",
       "      <td>3168.000000</td>\n",
       "      <td>3168.000000</td>\n",
       "      <td>3168.000000</td>\n",
       "      <td>3168.000000</td>\n",
       "      <td>3168.000000</td>\n",
       "      <td>3168.000000</td>\n",
       "      <td>3168.000000</td>\n",
       "      <td>3168.000000</td>\n",
       "      <td>3168.000000</td>\n",
       "      <td>3168.000000</td>\n",
       "      <td>3168.000000</td>\n",
       "    </tr>\n",
       "    <tr>\n",
       "      <td>mean</td>\n",
       "      <td>0.180907</td>\n",
       "      <td>0.057126</td>\n",
       "      <td>0.185621</td>\n",
       "      <td>0.140456</td>\n",
       "      <td>0.224765</td>\n",
       "      <td>0.084309</td>\n",
       "      <td>3.140168</td>\n",
       "      <td>36.568461</td>\n",
       "      <td>0.895127</td>\n",
       "      <td>0.408216</td>\n",
       "      <td>0.165282</td>\n",
       "      <td>0.180907</td>\n",
       "      <td>0.142807</td>\n",
       "      <td>0.036802</td>\n",
       "      <td>0.258842</td>\n",
       "      <td>0.829211</td>\n",
       "      <td>0.052647</td>\n",
       "      <td>5.047277</td>\n",
       "      <td>4.994630</td>\n",
       "      <td>0.173752</td>\n",
       "    </tr>\n",
       "    <tr>\n",
       "      <td>std</td>\n",
       "      <td>0.029918</td>\n",
       "      <td>0.016652</td>\n",
       "      <td>0.036360</td>\n",
       "      <td>0.048680</td>\n",
       "      <td>0.023639</td>\n",
       "      <td>0.042783</td>\n",
       "      <td>4.240529</td>\n",
       "      <td>134.928661</td>\n",
       "      <td>0.044980</td>\n",
       "      <td>0.177521</td>\n",
       "      <td>0.077203</td>\n",
       "      <td>0.029918</td>\n",
       "      <td>0.032304</td>\n",
       "      <td>0.019220</td>\n",
       "      <td>0.030077</td>\n",
       "      <td>0.525205</td>\n",
       "      <td>0.063299</td>\n",
       "      <td>3.521157</td>\n",
       "      <td>3.520039</td>\n",
       "      <td>0.119454</td>\n",
       "    </tr>\n",
       "    <tr>\n",
       "      <td>min</td>\n",
       "      <td>0.039363</td>\n",
       "      <td>0.018363</td>\n",
       "      <td>0.010975</td>\n",
       "      <td>0.000229</td>\n",
       "      <td>0.042946</td>\n",
       "      <td>0.014558</td>\n",
       "      <td>0.141735</td>\n",
       "      <td>2.068455</td>\n",
       "      <td>0.738651</td>\n",
       "      <td>0.036876</td>\n",
       "      <td>0.000000</td>\n",
       "      <td>0.039363</td>\n",
       "      <td>0.055565</td>\n",
       "      <td>0.009775</td>\n",
       "      <td>0.103093</td>\n",
       "      <td>0.007812</td>\n",
       "      <td>0.004883</td>\n",
       "      <td>0.007812</td>\n",
       "      <td>0.000000</td>\n",
       "      <td>0.000000</td>\n",
       "    </tr>\n",
       "    <tr>\n",
       "      <td>25%</td>\n",
       "      <td>0.163662</td>\n",
       "      <td>0.041954</td>\n",
       "      <td>0.169593</td>\n",
       "      <td>0.111087</td>\n",
       "      <td>0.208747</td>\n",
       "      <td>0.042560</td>\n",
       "      <td>1.649569</td>\n",
       "      <td>5.669547</td>\n",
       "      <td>0.861811</td>\n",
       "      <td>0.258041</td>\n",
       "      <td>0.118016</td>\n",
       "      <td>0.163662</td>\n",
       "      <td>0.116998</td>\n",
       "      <td>0.018223</td>\n",
       "      <td>0.253968</td>\n",
       "      <td>0.419828</td>\n",
       "      <td>0.007812</td>\n",
       "      <td>2.070312</td>\n",
       "      <td>2.044922</td>\n",
       "      <td>0.099766</td>\n",
       "    </tr>\n",
       "    <tr>\n",
       "      <td>50%</td>\n",
       "      <td>0.184838</td>\n",
       "      <td>0.059155</td>\n",
       "      <td>0.190032</td>\n",
       "      <td>0.140286</td>\n",
       "      <td>0.225684</td>\n",
       "      <td>0.094280</td>\n",
       "      <td>2.197101</td>\n",
       "      <td>8.318463</td>\n",
       "      <td>0.901767</td>\n",
       "      <td>0.396335</td>\n",
       "      <td>0.186599</td>\n",
       "      <td>0.184838</td>\n",
       "      <td>0.140519</td>\n",
       "      <td>0.046110</td>\n",
       "      <td>0.271186</td>\n",
       "      <td>0.765795</td>\n",
       "      <td>0.023438</td>\n",
       "      <td>4.992188</td>\n",
       "      <td>4.945312</td>\n",
       "      <td>0.139357</td>\n",
       "    </tr>\n",
       "    <tr>\n",
       "      <td>75%</td>\n",
       "      <td>0.199146</td>\n",
       "      <td>0.067020</td>\n",
       "      <td>0.210618</td>\n",
       "      <td>0.175939</td>\n",
       "      <td>0.243660</td>\n",
       "      <td>0.114175</td>\n",
       "      <td>2.931694</td>\n",
       "      <td>13.648905</td>\n",
       "      <td>0.928713</td>\n",
       "      <td>0.533676</td>\n",
       "      <td>0.221104</td>\n",
       "      <td>0.199146</td>\n",
       "      <td>0.169581</td>\n",
       "      <td>0.047904</td>\n",
       "      <td>0.277457</td>\n",
       "      <td>1.177166</td>\n",
       "      <td>0.070312</td>\n",
       "      <td>7.007812</td>\n",
       "      <td>6.992188</td>\n",
       "      <td>0.209183</td>\n",
       "    </tr>\n",
       "    <tr>\n",
       "      <td>max</td>\n",
       "      <td>0.251124</td>\n",
       "      <td>0.115273</td>\n",
       "      <td>0.261224</td>\n",
       "      <td>0.247347</td>\n",
       "      <td>0.273469</td>\n",
       "      <td>0.252225</td>\n",
       "      <td>34.725453</td>\n",
       "      <td>1309.612887</td>\n",
       "      <td>0.981997</td>\n",
       "      <td>0.842936</td>\n",
       "      <td>0.280000</td>\n",
       "      <td>0.251124</td>\n",
       "      <td>0.237636</td>\n",
       "      <td>0.204082</td>\n",
       "      <td>0.279114</td>\n",
       "      <td>2.957682</td>\n",
       "      <td>0.458984</td>\n",
       "      <td>21.867188</td>\n",
       "      <td>21.843750</td>\n",
       "      <td>0.932374</td>\n",
       "    </tr>\n",
       "  </tbody>\n",
       "</table>\n",
       "</div>"
      ],
      "text/plain": [
       "          meanfreq           sd       median          Q25          Q75  \\\n",
       "count  3168.000000  3168.000000  3168.000000  3168.000000  3168.000000   \n",
       "mean      0.180907     0.057126     0.185621     0.140456     0.224765   \n",
       "std       0.029918     0.016652     0.036360     0.048680     0.023639   \n",
       "min       0.039363     0.018363     0.010975     0.000229     0.042946   \n",
       "25%       0.163662     0.041954     0.169593     0.111087     0.208747   \n",
       "50%       0.184838     0.059155     0.190032     0.140286     0.225684   \n",
       "75%       0.199146     0.067020     0.210618     0.175939     0.243660   \n",
       "max       0.251124     0.115273     0.261224     0.247347     0.273469   \n",
       "\n",
       "               IQR         skew         kurt       sp.ent          sfm  \\\n",
       "count  3168.000000  3168.000000  3168.000000  3168.000000  3168.000000   \n",
       "mean      0.084309     3.140168    36.568461     0.895127     0.408216   \n",
       "std       0.042783     4.240529   134.928661     0.044980     0.177521   \n",
       "min       0.014558     0.141735     2.068455     0.738651     0.036876   \n",
       "25%       0.042560     1.649569     5.669547     0.861811     0.258041   \n",
       "50%       0.094280     2.197101     8.318463     0.901767     0.396335   \n",
       "75%       0.114175     2.931694    13.648905     0.928713     0.533676   \n",
       "max       0.252225    34.725453  1309.612887     0.981997     0.842936   \n",
       "\n",
       "              mode     centroid      meanfun       minfun       maxfun  \\\n",
       "count  3168.000000  3168.000000  3168.000000  3168.000000  3168.000000   \n",
       "mean      0.165282     0.180907     0.142807     0.036802     0.258842   \n",
       "std       0.077203     0.029918     0.032304     0.019220     0.030077   \n",
       "min       0.000000     0.039363     0.055565     0.009775     0.103093   \n",
       "25%       0.118016     0.163662     0.116998     0.018223     0.253968   \n",
       "50%       0.186599     0.184838     0.140519     0.046110     0.271186   \n",
       "75%       0.221104     0.199146     0.169581     0.047904     0.277457   \n",
       "max       0.280000     0.251124     0.237636     0.204082     0.279114   \n",
       "\n",
       "           meandom       mindom       maxdom      dfrange      modindx  \n",
       "count  3168.000000  3168.000000  3168.000000  3168.000000  3168.000000  \n",
       "mean      0.829211     0.052647     5.047277     4.994630     0.173752  \n",
       "std       0.525205     0.063299     3.521157     3.520039     0.119454  \n",
       "min       0.007812     0.004883     0.007812     0.000000     0.000000  \n",
       "25%       0.419828     0.007812     2.070312     2.044922     0.099766  \n",
       "50%       0.765795     0.023438     4.992188     4.945312     0.139357  \n",
       "75%       1.177166     0.070312     7.007812     6.992188     0.209183  \n",
       "max       2.957682     0.458984    21.867188    21.843750     0.932374  "
      ]
     },
     "execution_count": 5,
     "metadata": {},
     "output_type": "execute_result"
    }
   ],
   "source": [
    "dfVoice.describe()"
   ]
  },
  {
   "cell_type": "code",
   "execution_count": 7,
   "metadata": {},
   "outputs": [
    {
     "data": {
      "text/html": [
       "<div>\n",
       "<style scoped>\n",
       "    .dataframe tbody tr th:only-of-type {\n",
       "        vertical-align: middle;\n",
       "    }\n",
       "\n",
       "    .dataframe tbody tr th {\n",
       "        vertical-align: top;\n",
       "    }\n",
       "\n",
       "    .dataframe thead th {\n",
       "        text-align: right;\n",
       "    }\n",
       "</style>\n",
       "<table border=\"1\" class=\"dataframe\">\n",
       "  <thead>\n",
       "    <tr style=\"text-align: right;\">\n",
       "      <th></th>\n",
       "      <th>meanfreq</th>\n",
       "      <th>sd</th>\n",
       "      <th>median</th>\n",
       "      <th>Q25</th>\n",
       "      <th>Q75</th>\n",
       "      <th>IQR</th>\n",
       "      <th>skew</th>\n",
       "      <th>kurt</th>\n",
       "      <th>sp.ent</th>\n",
       "      <th>sfm</th>\n",
       "      <th>...</th>\n",
       "      <th>centroid</th>\n",
       "      <th>meanfun</th>\n",
       "      <th>minfun</th>\n",
       "      <th>maxfun</th>\n",
       "      <th>meandom</th>\n",
       "      <th>mindom</th>\n",
       "      <th>maxdom</th>\n",
       "      <th>dfrange</th>\n",
       "      <th>modindx</th>\n",
       "      <th>label</th>\n",
       "    </tr>\n",
       "  </thead>\n",
       "  <tbody>\n",
       "    <tr>\n",
       "      <td>1011</td>\n",
       "      <td>0.192989</td>\n",
       "      <td>0.070569</td>\n",
       "      <td>0.222416</td>\n",
       "      <td>0.128270</td>\n",
       "      <td>0.253188</td>\n",
       "      <td>0.124918</td>\n",
       "      <td>2.682818</td>\n",
       "      <td>11.566791</td>\n",
       "      <td>0.927718</td>\n",
       "      <td>0.577478</td>\n",
       "      <td>...</td>\n",
       "      <td>0.192989</td>\n",
       "      <td>0.128908</td>\n",
       "      <td>0.047337</td>\n",
       "      <td>0.279070</td>\n",
       "      <td>1.202206</td>\n",
       "      <td>0.023438</td>\n",
       "      <td>20.484375</td>\n",
       "      <td>20.460938</td>\n",
       "      <td>0.055165</td>\n",
       "      <td>male</td>\n",
       "    </tr>\n",
       "    <tr>\n",
       "      <td>1086</td>\n",
       "      <td>0.196590</td>\n",
       "      <td>0.057834</td>\n",
       "      <td>0.214406</td>\n",
       "      <td>0.134126</td>\n",
       "      <td>0.245734</td>\n",
       "      <td>0.111608</td>\n",
       "      <td>1.522354</td>\n",
       "      <td>5.287497</td>\n",
       "      <td>0.903398</td>\n",
       "      <td>0.291057</td>\n",
       "      <td>...</td>\n",
       "      <td>0.196590</td>\n",
       "      <td>0.124676</td>\n",
       "      <td>0.047244</td>\n",
       "      <td>0.277457</td>\n",
       "      <td>1.468229</td>\n",
       "      <td>0.023438</td>\n",
       "      <td>21.515625</td>\n",
       "      <td>21.492188</td>\n",
       "      <td>0.082438</td>\n",
       "      <td>male</td>\n",
       "    </tr>\n",
       "    <tr>\n",
       "      <td>1114</td>\n",
       "      <td>0.175311</td>\n",
       "      <td>0.068150</td>\n",
       "      <td>0.160749</td>\n",
       "      <td>0.127551</td>\n",
       "      <td>0.241997</td>\n",
       "      <td>0.114446</td>\n",
       "      <td>1.438899</td>\n",
       "      <td>4.568239</td>\n",
       "      <td>0.939701</td>\n",
       "      <td>0.599018</td>\n",
       "      <td>...</td>\n",
       "      <td>0.175311</td>\n",
       "      <td>0.133196</td>\n",
       "      <td>0.047105</td>\n",
       "      <td>0.271186</td>\n",
       "      <td>1.479992</td>\n",
       "      <td>0.023438</td>\n",
       "      <td>21.867188</td>\n",
       "      <td>21.843750</td>\n",
       "      <td>0.074511</td>\n",
       "      <td>male</td>\n",
       "    </tr>\n",
       "    <tr>\n",
       "      <td>1448</td>\n",
       "      <td>0.178261</td>\n",
       "      <td>0.062283</td>\n",
       "      <td>0.179499</td>\n",
       "      <td>0.138831</td>\n",
       "      <td>0.233255</td>\n",
       "      <td>0.094424</td>\n",
       "      <td>1.464983</td>\n",
       "      <td>5.498037</td>\n",
       "      <td>0.925515</td>\n",
       "      <td>0.460198</td>\n",
       "      <td>...</td>\n",
       "      <td>0.178261</td>\n",
       "      <td>0.128866</td>\n",
       "      <td>0.050580</td>\n",
       "      <td>0.277457</td>\n",
       "      <td>1.635298</td>\n",
       "      <td>0.023438</td>\n",
       "      <td>21.843750</td>\n",
       "      <td>21.820312</td>\n",
       "      <td>0.053843</td>\n",
       "      <td>male</td>\n",
       "    </tr>\n",
       "    <tr>\n",
       "      <td>2342</td>\n",
       "      <td>0.230992</td>\n",
       "      <td>0.031246</td>\n",
       "      <td>0.229988</td>\n",
       "      <td>0.214678</td>\n",
       "      <td>0.251762</td>\n",
       "      <td>0.037084</td>\n",
       "      <td>1.890016</td>\n",
       "      <td>5.971598</td>\n",
       "      <td>0.834185</td>\n",
       "      <td>0.140839</td>\n",
       "      <td>...</td>\n",
       "      <td>0.230992</td>\n",
       "      <td>0.191741</td>\n",
       "      <td>0.047291</td>\n",
       "      <td>0.277457</td>\n",
       "      <td>2.288628</td>\n",
       "      <td>0.023438</td>\n",
       "      <td>21.796875</td>\n",
       "      <td>21.773438</td>\n",
       "      <td>0.111634</td>\n",
       "      <td>female</td>\n",
       "    </tr>\n",
       "    <tr>\n",
       "      <td>2362</td>\n",
       "      <td>0.229129</td>\n",
       "      <td>0.031968</td>\n",
       "      <td>0.232010</td>\n",
       "      <td>0.216856</td>\n",
       "      <td>0.246804</td>\n",
       "      <td>0.029948</td>\n",
       "      <td>2.360172</td>\n",
       "      <td>8.994627</td>\n",
       "      <td>0.835542</td>\n",
       "      <td>0.166957</td>\n",
       "      <td>...</td>\n",
       "      <td>0.229129</td>\n",
       "      <td>0.166136</td>\n",
       "      <td>0.049281</td>\n",
       "      <td>0.271186</td>\n",
       "      <td>1.480674</td>\n",
       "      <td>0.093750</td>\n",
       "      <td>20.976562</td>\n",
       "      <td>20.882812</td>\n",
       "      <td>0.076552</td>\n",
       "      <td>female</td>\n",
       "    </tr>\n",
       "    <tr>\n",
       "      <td>2547</td>\n",
       "      <td>0.200742</td>\n",
       "      <td>0.035396</td>\n",
       "      <td>0.200833</td>\n",
       "      <td>0.182083</td>\n",
       "      <td>0.224583</td>\n",
       "      <td>0.042500</td>\n",
       "      <td>1.873618</td>\n",
       "      <td>5.842669</td>\n",
       "      <td>0.864797</td>\n",
       "      <td>0.250955</td>\n",
       "      <td>...</td>\n",
       "      <td>0.200742</td>\n",
       "      <td>0.176234</td>\n",
       "      <td>0.049080</td>\n",
       "      <td>0.268156</td>\n",
       "      <td>1.317555</td>\n",
       "      <td>0.023438</td>\n",
       "      <td>21.562500</td>\n",
       "      <td>21.539062</td>\n",
       "      <td>0.035075</td>\n",
       "      <td>female</td>\n",
       "    </tr>\n",
       "    <tr>\n",
       "      <td>2576</td>\n",
       "      <td>0.220121</td>\n",
       "      <td>0.029492</td>\n",
       "      <td>0.222936</td>\n",
       "      <td>0.205043</td>\n",
       "      <td>0.232608</td>\n",
       "      <td>0.027565</td>\n",
       "      <td>3.345215</td>\n",
       "      <td>16.062448</td>\n",
       "      <td>0.806673</td>\n",
       "      <td>0.148746</td>\n",
       "      <td>...</td>\n",
       "      <td>0.220121</td>\n",
       "      <td>0.182577</td>\n",
       "      <td>0.047666</td>\n",
       "      <td>0.279070</td>\n",
       "      <td>2.122044</td>\n",
       "      <td>0.210938</td>\n",
       "      <td>20.414062</td>\n",
       "      <td>20.203125</td>\n",
       "      <td>0.070653</td>\n",
       "      <td>female</td>\n",
       "    </tr>\n",
       "    <tr>\n",
       "      <td>2637</td>\n",
       "      <td>0.213664</td>\n",
       "      <td>0.035410</td>\n",
       "      <td>0.222989</td>\n",
       "      <td>0.194483</td>\n",
       "      <td>0.234943</td>\n",
       "      <td>0.040460</td>\n",
       "      <td>2.397614</td>\n",
       "      <td>8.808855</td>\n",
       "      <td>0.849510</td>\n",
       "      <td>0.238105</td>\n",
       "      <td>...</td>\n",
       "      <td>0.213664</td>\n",
       "      <td>0.171509</td>\n",
       "      <td>0.050367</td>\n",
       "      <td>0.268156</td>\n",
       "      <td>1.177020</td>\n",
       "      <td>0.023438</td>\n",
       "      <td>20.414062</td>\n",
       "      <td>20.390625</td>\n",
       "      <td>0.043391</td>\n",
       "      <td>female</td>\n",
       "    </tr>\n",
       "    <tr>\n",
       "      <td>2686</td>\n",
       "      <td>0.190402</td>\n",
       "      <td>0.052902</td>\n",
       "      <td>0.175446</td>\n",
       "      <td>0.147723</td>\n",
       "      <td>0.239208</td>\n",
       "      <td>0.091485</td>\n",
       "      <td>1.964236</td>\n",
       "      <td>8.318117</td>\n",
       "      <td>0.899798</td>\n",
       "      <td>0.333411</td>\n",
       "      <td>...</td>\n",
       "      <td>0.190402</td>\n",
       "      <td>0.148943</td>\n",
       "      <td>0.047856</td>\n",
       "      <td>0.275862</td>\n",
       "      <td>1.887784</td>\n",
       "      <td>0.023438</td>\n",
       "      <td>20.625000</td>\n",
       "      <td>20.601562</td>\n",
       "      <td>0.094733</td>\n",
       "      <td>female</td>\n",
       "    </tr>\n",
       "    <tr>\n",
       "      <td>2848</td>\n",
       "      <td>0.227112</td>\n",
       "      <td>0.033319</td>\n",
       "      <td>0.229969</td>\n",
       "      <td>0.220313</td>\n",
       "      <td>0.240940</td>\n",
       "      <td>0.020627</td>\n",
       "      <td>3.261743</td>\n",
       "      <td>14.582504</td>\n",
       "      <td>0.794256</td>\n",
       "      <td>0.178283</td>\n",
       "      <td>...</td>\n",
       "      <td>0.227112</td>\n",
       "      <td>0.204378</td>\n",
       "      <td>0.050794</td>\n",
       "      <td>0.277457</td>\n",
       "      <td>1.482813</td>\n",
       "      <td>0.023438</td>\n",
       "      <td>20.859375</td>\n",
       "      <td>20.835938</td>\n",
       "      <td>0.082168</td>\n",
       "      <td>female</td>\n",
       "    </tr>\n",
       "    <tr>\n",
       "      <td>3120</td>\n",
       "      <td>0.202575</td>\n",
       "      <td>0.034812</td>\n",
       "      <td>0.202902</td>\n",
       "      <td>0.179591</td>\n",
       "      <td>0.216577</td>\n",
       "      <td>0.036986</td>\n",
       "      <td>3.395912</td>\n",
       "      <td>18.099725</td>\n",
       "      <td>0.869634</td>\n",
       "      <td>0.174493</td>\n",
       "      <td>...</td>\n",
       "      <td>0.202575</td>\n",
       "      <td>0.152125</td>\n",
       "      <td>0.043620</td>\n",
       "      <td>0.277358</td>\n",
       "      <td>2.190405</td>\n",
       "      <td>0.107666</td>\n",
       "      <td>20.456543</td>\n",
       "      <td>20.348877</td>\n",
       "      <td>0.078483</td>\n",
       "      <td>female</td>\n",
       "    </tr>\n",
       "  </tbody>\n",
       "</table>\n",
       "<p>12 rows × 21 columns</p>\n",
       "</div>"
      ],
      "text/plain": [
       "      meanfreq        sd    median       Q25       Q75       IQR      skew  \\\n",
       "1011  0.192989  0.070569  0.222416  0.128270  0.253188  0.124918  2.682818   \n",
       "1086  0.196590  0.057834  0.214406  0.134126  0.245734  0.111608  1.522354   \n",
       "1114  0.175311  0.068150  0.160749  0.127551  0.241997  0.114446  1.438899   \n",
       "1448  0.178261  0.062283  0.179499  0.138831  0.233255  0.094424  1.464983   \n",
       "2342  0.230992  0.031246  0.229988  0.214678  0.251762  0.037084  1.890016   \n",
       "2362  0.229129  0.031968  0.232010  0.216856  0.246804  0.029948  2.360172   \n",
       "2547  0.200742  0.035396  0.200833  0.182083  0.224583  0.042500  1.873618   \n",
       "2576  0.220121  0.029492  0.222936  0.205043  0.232608  0.027565  3.345215   \n",
       "2637  0.213664  0.035410  0.222989  0.194483  0.234943  0.040460  2.397614   \n",
       "2686  0.190402  0.052902  0.175446  0.147723  0.239208  0.091485  1.964236   \n",
       "2848  0.227112  0.033319  0.229969  0.220313  0.240940  0.020627  3.261743   \n",
       "3120  0.202575  0.034812  0.202902  0.179591  0.216577  0.036986  3.395912   \n",
       "\n",
       "           kurt    sp.ent       sfm  ...  centroid   meanfun    minfun  \\\n",
       "1011  11.566791  0.927718  0.577478  ...  0.192989  0.128908  0.047337   \n",
       "1086   5.287497  0.903398  0.291057  ...  0.196590  0.124676  0.047244   \n",
       "1114   4.568239  0.939701  0.599018  ...  0.175311  0.133196  0.047105   \n",
       "1448   5.498037  0.925515  0.460198  ...  0.178261  0.128866  0.050580   \n",
       "2342   5.971598  0.834185  0.140839  ...  0.230992  0.191741  0.047291   \n",
       "2362   8.994627  0.835542  0.166957  ...  0.229129  0.166136  0.049281   \n",
       "2547   5.842669  0.864797  0.250955  ...  0.200742  0.176234  0.049080   \n",
       "2576  16.062448  0.806673  0.148746  ...  0.220121  0.182577  0.047666   \n",
       "2637   8.808855  0.849510  0.238105  ...  0.213664  0.171509  0.050367   \n",
       "2686   8.318117  0.899798  0.333411  ...  0.190402  0.148943  0.047856   \n",
       "2848  14.582504  0.794256  0.178283  ...  0.227112  0.204378  0.050794   \n",
       "3120  18.099725  0.869634  0.174493  ...  0.202575  0.152125  0.043620   \n",
       "\n",
       "        maxfun   meandom    mindom     maxdom    dfrange   modindx   label  \n",
       "1011  0.279070  1.202206  0.023438  20.484375  20.460938  0.055165    male  \n",
       "1086  0.277457  1.468229  0.023438  21.515625  21.492188  0.082438    male  \n",
       "1114  0.271186  1.479992  0.023438  21.867188  21.843750  0.074511    male  \n",
       "1448  0.277457  1.635298  0.023438  21.843750  21.820312  0.053843    male  \n",
       "2342  0.277457  2.288628  0.023438  21.796875  21.773438  0.111634  female  \n",
       "2362  0.271186  1.480674  0.093750  20.976562  20.882812  0.076552  female  \n",
       "2547  0.268156  1.317555  0.023438  21.562500  21.539062  0.035075  female  \n",
       "2576  0.279070  2.122044  0.210938  20.414062  20.203125  0.070653  female  \n",
       "2637  0.268156  1.177020  0.023438  20.414062  20.390625  0.043391  female  \n",
       "2686  0.275862  1.887784  0.023438  20.625000  20.601562  0.094733  female  \n",
       "2848  0.277457  1.482813  0.023438  20.859375  20.835938  0.082168  female  \n",
       "3120  0.277358  2.190405  0.107666  20.456543  20.348877  0.078483  female  \n",
       "\n",
       "[12 rows x 21 columns]"
      ]
     },
     "execution_count": 7,
     "metadata": {},
     "output_type": "execute_result"
    }
   ],
   "source": [
    "dfVoice[dfVoice['dfrange']>20]"
   ]
  },
  {
   "cell_type": "code",
   "execution_count": 8,
   "metadata": {},
   "outputs": [
    {
     "data": {
      "text/html": [
       "<div>\n",
       "<style scoped>\n",
       "    .dataframe tbody tr th:only-of-type {\n",
       "        vertical-align: middle;\n",
       "    }\n",
       "\n",
       "    .dataframe tbody tr th {\n",
       "        vertical-align: top;\n",
       "    }\n",
       "\n",
       "    .dataframe thead th {\n",
       "        text-align: right;\n",
       "    }\n",
       "</style>\n",
       "<table border=\"1\" class=\"dataframe\">\n",
       "  <thead>\n",
       "    <tr style=\"text-align: right;\">\n",
       "      <th></th>\n",
       "      <th>dataFeatures</th>\n",
       "      <th>dataType</th>\n",
       "      <th>null</th>\n",
       "      <th>nullPct</th>\n",
       "      <th>unique</th>\n",
       "      <th>uniqueSample</th>\n",
       "    </tr>\n",
       "  </thead>\n",
       "  <tbody>\n",
       "    <tr>\n",
       "      <td>0</td>\n",
       "      <td>meanfreq</td>\n",
       "      <td>float64</td>\n",
       "      <td>0</td>\n",
       "      <td>0.0</td>\n",
       "      <td>3166</td>\n",
       "      <td>[0.182471413001779, 0.23423198281690602]</td>\n",
       "    </tr>\n",
       "    <tr>\n",
       "      <td>1</td>\n",
       "      <td>sd</td>\n",
       "      <td>float64</td>\n",
       "      <td>0</td>\n",
       "      <td>0.0</td>\n",
       "      <td>3166</td>\n",
       "      <td>[0.07842657360827499, 0.0400072826766869]</td>\n",
       "    </tr>\n",
       "    <tr>\n",
       "      <td>2</td>\n",
       "      <td>median</td>\n",
       "      <td>float64</td>\n",
       "      <td>0</td>\n",
       "      <td>0.0</td>\n",
       "      <td>3077</td>\n",
       "      <td>[0.17846782431052102, 0.170757575757576]</td>\n",
       "    </tr>\n",
       "    <tr>\n",
       "      <td>3</td>\n",
       "      <td>Q25</td>\n",
       "      <td>float64</td>\n",
       "      <td>0</td>\n",
       "      <td>0.0</td>\n",
       "      <td>3103</td>\n",
       "      <td>[0.199099756690998, 0.13629009762900998]</td>\n",
       "    </tr>\n",
       "    <tr>\n",
       "      <td>4</td>\n",
       "      <td>Q75</td>\n",
       "      <td>float64</td>\n",
       "      <td>0</td>\n",
       "      <td>0.0</td>\n",
       "      <td>3034</td>\n",
       "      <td>[0.240287253141831, 0.21577647823261897]</td>\n",
       "    </tr>\n",
       "    <tr>\n",
       "      <td>5</td>\n",
       "      <td>IQR</td>\n",
       "      <td>float64</td>\n",
       "      <td>0</td>\n",
       "      <td>0.0</td>\n",
       "      <td>3073</td>\n",
       "      <td>[0.0595825771324864, 0.0900068540095956]</td>\n",
       "    </tr>\n",
       "    <tr>\n",
       "      <td>6</td>\n",
       "      <td>skew</td>\n",
       "      <td>float64</td>\n",
       "      <td>0</td>\n",
       "      <td>0.0</td>\n",
       "      <td>3166</td>\n",
       "      <td>[1.0188045207977399, 4.2452824370232]</td>\n",
       "    </tr>\n",
       "    <tr>\n",
       "      <td>7</td>\n",
       "      <td>kurt</td>\n",
       "      <td>float64</td>\n",
       "      <td>0</td>\n",
       "      <td>0.0</td>\n",
       "      <td>3166</td>\n",
       "      <td>[18.650105687282, 8.22497731607061]</td>\n",
       "    </tr>\n",
       "    <tr>\n",
       "      <td>8</td>\n",
       "      <td>sp.ent</td>\n",
       "      <td>float64</td>\n",
       "      <td>0</td>\n",
       "      <td>0.0</td>\n",
       "      <td>3166</td>\n",
       "      <td>[0.8421336103037951, 0.9196467987784102]</td>\n",
       "    </tr>\n",
       "    <tr>\n",
       "      <td>9</td>\n",
       "      <td>sfm</td>\n",
       "      <td>float64</td>\n",
       "      <td>0</td>\n",
       "      <td>0.0</td>\n",
       "      <td>3166</td>\n",
       "      <td>[0.538465424050256, 0.351324705672448]</td>\n",
       "    </tr>\n",
       "    <tr>\n",
       "      <td>10</td>\n",
       "      <td>mode</td>\n",
       "      <td>float64</td>\n",
       "      <td>0</td>\n",
       "      <td>0.0</td>\n",
       "      <td>2825</td>\n",
       "      <td>[0.0600451467268623, 0.137512007684918]</td>\n",
       "    </tr>\n",
       "    <tr>\n",
       "      <td>11</td>\n",
       "      <td>centroid</td>\n",
       "      <td>float64</td>\n",
       "      <td>0</td>\n",
       "      <td>0.0</td>\n",
       "      <td>3166</td>\n",
       "      <td>[0.20405173550667602, 0.17766997636085297]</td>\n",
       "    </tr>\n",
       "    <tr>\n",
       "      <td>12</td>\n",
       "      <td>meanfun</td>\n",
       "      <td>float64</td>\n",
       "      <td>0</td>\n",
       "      <td>0.0</td>\n",
       "      <td>3166</td>\n",
       "      <td>[0.12151589970247502, 0.18885768800141503]</td>\n",
       "    </tr>\n",
       "    <tr>\n",
       "      <td>13</td>\n",
       "      <td>minfun</td>\n",
       "      <td>float64</td>\n",
       "      <td>0</td>\n",
       "      <td>0.0</td>\n",
       "      <td>913</td>\n",
       "      <td>[0.0555555555555556, 0.0615384615384615]</td>\n",
       "    </tr>\n",
       "    <tr>\n",
       "      <td>14</td>\n",
       "      <td>maxfun</td>\n",
       "      <td>float64</td>\n",
       "      <td>0</td>\n",
       "      <td>0.0</td>\n",
       "      <td>123</td>\n",
       "      <td>[0.268156424581006, 0.222222222222222]</td>\n",
       "    </tr>\n",
       "    <tr>\n",
       "      <td>15</td>\n",
       "      <td>meandom</td>\n",
       "      <td>float64</td>\n",
       "      <td>0</td>\n",
       "      <td>0.0</td>\n",
       "      <td>2999</td>\n",
       "      <td>[0.762408088235294, 0.105208333333333]</td>\n",
       "    </tr>\n",
       "    <tr>\n",
       "      <td>16</td>\n",
       "      <td>mindom</td>\n",
       "      <td>float64</td>\n",
       "      <td>0</td>\n",
       "      <td>0.0</td>\n",
       "      <td>77</td>\n",
       "      <td>[0.34375, 0.0732421875]</td>\n",
       "    </tr>\n",
       "    <tr>\n",
       "      <td>17</td>\n",
       "      <td>maxdom</td>\n",
       "      <td>float64</td>\n",
       "      <td>0</td>\n",
       "      <td>0.0</td>\n",
       "      <td>1054</td>\n",
       "      <td>[6.0625, 4.9609375]</td>\n",
       "    </tr>\n",
       "    <tr>\n",
       "      <td>18</td>\n",
       "      <td>dfrange</td>\n",
       "      <td>float64</td>\n",
       "      <td>0</td>\n",
       "      <td>0.0</td>\n",
       "      <td>1091</td>\n",
       "      <td>[15.328125, 6.5390625]</td>\n",
       "    </tr>\n",
       "    <tr>\n",
       "      <td>19</td>\n",
       "      <td>modindx</td>\n",
       "      <td>float64</td>\n",
       "      <td>0</td>\n",
       "      <td>0.0</td>\n",
       "      <td>3079</td>\n",
       "      <td>[0.26449060336300695, 0.14548780487804902]</td>\n",
       "    </tr>\n",
       "    <tr>\n",
       "      <td>20</td>\n",
       "      <td>label</td>\n",
       "      <td>object</td>\n",
       "      <td>0</td>\n",
       "      <td>0.0</td>\n",
       "      <td>2</td>\n",
       "      <td>[female, male]</td>\n",
       "    </tr>\n",
       "  </tbody>\n",
       "</table>\n",
       "</div>"
      ],
      "text/plain": [
       "   dataFeatures dataType  null  nullPct  unique  \\\n",
       "0      meanfreq  float64     0      0.0    3166   \n",
       "1            sd  float64     0      0.0    3166   \n",
       "2        median  float64     0      0.0    3077   \n",
       "3           Q25  float64     0      0.0    3103   \n",
       "4           Q75  float64     0      0.0    3034   \n",
       "5           IQR  float64     0      0.0    3073   \n",
       "6          skew  float64     0      0.0    3166   \n",
       "7          kurt  float64     0      0.0    3166   \n",
       "8        sp.ent  float64     0      0.0    3166   \n",
       "9           sfm  float64     0      0.0    3166   \n",
       "10         mode  float64     0      0.0    2825   \n",
       "11     centroid  float64     0      0.0    3166   \n",
       "12      meanfun  float64     0      0.0    3166   \n",
       "13       minfun  float64     0      0.0     913   \n",
       "14       maxfun  float64     0      0.0     123   \n",
       "15      meandom  float64     0      0.0    2999   \n",
       "16       mindom  float64     0      0.0      77   \n",
       "17       maxdom  float64     0      0.0    1054   \n",
       "18      dfrange  float64     0      0.0    1091   \n",
       "19      modindx  float64     0      0.0    3079   \n",
       "20        label   object     0      0.0       2   \n",
       "\n",
       "                                  uniqueSample  \n",
       "0     [0.182471413001779, 0.23423198281690602]  \n",
       "1    [0.07842657360827499, 0.0400072826766869]  \n",
       "2     [0.17846782431052102, 0.170757575757576]  \n",
       "3     [0.199099756690998, 0.13629009762900998]  \n",
       "4     [0.240287253141831, 0.21577647823261897]  \n",
       "5     [0.0595825771324864, 0.0900068540095956]  \n",
       "6        [1.0188045207977399, 4.2452824370232]  \n",
       "7          [18.650105687282, 8.22497731607061]  \n",
       "8     [0.8421336103037951, 0.9196467987784102]  \n",
       "9       [0.538465424050256, 0.351324705672448]  \n",
       "10     [0.0600451467268623, 0.137512007684918]  \n",
       "11  [0.20405173550667602, 0.17766997636085297]  \n",
       "12  [0.12151589970247502, 0.18885768800141503]  \n",
       "13    [0.0555555555555556, 0.0615384615384615]  \n",
       "14      [0.268156424581006, 0.222222222222222]  \n",
       "15      [0.762408088235294, 0.105208333333333]  \n",
       "16                     [0.34375, 0.0732421875]  \n",
       "17                         [6.0625, 4.9609375]  \n",
       "18                      [15.328125, 6.5390625]  \n",
       "19  [0.26449060336300695, 0.14548780487804902]  \n",
       "20                              [female, male]  "
      ]
     },
     "execution_count": 8,
     "metadata": {},
     "output_type": "execute_result"
    }
   ],
   "source": [
    "listItem = []\n",
    "for col in dfVoice.columns :\n",
    "    listItem.append([col, dfVoice[col].dtype, dfVoice[col].isna().sum(), round((dfVoice[col].isna().sum()/len(dfVoice[col])) * 100,2),\n",
    "                    dfVoice[col].nunique(), list(dfVoice[col].drop_duplicates().sample(2).values)]);\n",
    "\n",
    "dfDesc = pd.DataFrame(columns=['dataFeatures', 'dataType', 'null', 'nullPct', 'unique', 'uniqueSample'],\n",
    "                     data=listItem)\n",
    "dfDesc"
   ]
  },
  {
   "cell_type": "code",
   "execution_count": 9,
   "metadata": {},
   "outputs": [
    {
     "data": {
      "text/plain": [
       "female    1584\n",
       "male      1584\n",
       "Name: label, dtype: int64"
      ]
     },
     "execution_count": 9,
     "metadata": {},
     "output_type": "execute_result"
    }
   ],
   "source": [
    "dfVoice['label'].value_counts()"
   ]
  },
  {
   "cell_type": "code",
   "execution_count": 10,
   "metadata": {},
   "outputs": [
    {
     "name": "stderr",
     "output_type": "stream",
     "text": [
      "C:\\Users\\Bhaskara\\Anaconda3\\lib\\site-packages\\seaborn\\axisgrid.py:2065: UserWarning: The `size` parameter has been renamed to `height`; pleaes update your code.\n",
      "  warnings.warn(msg, UserWarning)\n"
     ]
    },
    {
     "data": {
      "text/plain": [
       "<seaborn.axisgrid.PairGrid at 0x221e2cfd1c8>"
      ]
     },
     "execution_count": 10,
     "metadata": {},
     "output_type": "execute_result"
    },
    {
     "data": {
      "image/png": "[encoded data removed]",
      "text/plain": [
       "<Figure size 790.5x720 with 30 Axes>"
      ]
     },
     "metadata": {
      "needs_background": "light"
     },
     "output_type": "display_data"
    }
   ],
   "source": [
    "sns.pairplot(dfVoice[['meanfreq', 'Q25', 'Q75', 'skew', 'centroid', 'label']], \n",
    "                 hue='label', size=2)"
   ]
  },
  {
   "cell_type": "markdown",
   "metadata": {},
   "source": [
    "# Preprocessing Data and Splitting"
   ]
  },
  {
   "cell_type": "code",
   "execution_count": 11,
   "metadata": {},
   "outputs": [],
   "source": [
    "from sklearn.model_selection import train_test_split\n",
    "from sklearn.preprocessing import LabelEncoder\n",
    "\n",
    "data = dfVoice.drop('label', axis=1)\n",
    "target = dfVoice['label']\n",
    "\n",
    "# Encode label category\n",
    "# male -> 1\n",
    "# female -> 0\n",
    "\n",
    "gender_encoder = LabelEncoder()\n",
    "target = gender_encoder.fit_transform(target)\n",
    "\n",
    "X_train, X_test, y_train, y_test = train_test_split(data, target, test_size=0.3, random_state=101)"
   ]
  },
  {
   "cell_type": "markdown",
   "metadata": {},
   "source": [
    "# Pipeline (StandardScaler,PCA,XGBoost)"
   ]
  },
  {
   "cell_type": "code",
   "execution_count": 15,
   "metadata": {},
   "outputs": [
    {
     "name": "stdout",
     "output_type": "stream",
     "text": [
      "Test Accuracy: 0.9705573080967402\n"
     ]
    }
   ],
   "source": [
    "from sklearn.preprocessing import StandardScaler\n",
    "from sklearn.decomposition import PCA\n",
    "from xgboost import XGBClassifier\n",
    "from sklearn.pipeline import Pipeline\n",
    "from sklearn.metrics import classification_report,confusion_matrix\n",
    "\n",
    "pipe_xgb = Pipeline([('std_scl', StandardScaler()), \n",
    "                    ('pca', PCA(n_components=10)),\n",
    "                    ('xgb', XGBClassifier(random_state=101))])\n",
    "\n",
    "pipe_xgb.fit(X_train, y_train)\n",
    "\n",
    "print('Test Accuracy: {}'.format(pipe_xgb.score(X_test, y_test)))"
   ]
  },
  {
   "cell_type": "code",
   "execution_count": 23,
   "metadata": {},
   "outputs": [
    {
     "name": "stdout",
     "output_type": "stream",
     "text": [
      "std_scl\n"
     ]
    }
   ],
   "source": [
    "print(pipe_xgb.steps[0][0])"
   ]
  },
  {
   "cell_type": "code",
   "execution_count": 26,
   "metadata": {},
   "outputs": [
    {
     "name": "stdout",
     "output_type": "stream",
     "text": [
      "StandardScaler(copy=True, with_mean=True, with_std=True)\n"
     ]
    }
   ],
   "source": [
    "print(pipe_xgb.steps[0][1])"
   ]
  },
  {
   "cell_type": "code",
   "execution_count": 22,
   "metadata": {
    "scrolled": false
   },
   "outputs": [
    {
     "name": "stdout",
     "output_type": "stream",
     "text": [
      "pca\n"
     ]
    }
   ],
   "source": [
    "print(pipe_xgb.steps[1][0])"
   ]
  },
  {
   "cell_type": "code",
   "execution_count": 27,
   "metadata": {},
   "outputs": [
    {
     "name": "stdout",
     "output_type": "stream",
     "text": [
      "PCA(copy=True, iterated_power='auto', n_components=10, random_state=None,\n",
      "    svd_solver='auto', tol=0.0, whiten=False)\n"
     ]
    }
   ],
   "source": [
    "print(pipe_xgb.steps[1][1])"
   ]
  },
  {
   "cell_type": "code",
   "execution_count": 16,
   "metadata": {
    "scrolled": false
   },
   "outputs": [
    {
     "name": "stdout",
     "output_type": "stream",
     "text": [
      "xgb\n"
     ]
    }
   ],
   "source": [
    "print(pipe_xgb.steps[2][0])"
   ]
  },
  {
   "cell_type": "code",
   "execution_count": 17,
   "metadata": {},
   "outputs": [
    {
     "name": "stdout",
     "output_type": "stream",
     "text": [
      "XGBClassifier(base_score=0.5, booster=None, colsample_bylevel=1,\n",
      "              colsample_bynode=1, colsample_bytree=1, gamma=0, gpu_id=-1,\n",
      "              importance_type='gain', interaction_constraints=None,\n",
      "              learning_rate=0.300000012, max_delta_step=0, max_depth=6,\n",
      "              min_child_weight=1, missing=nan, monotone_constraints=None,\n",
      "              n_estimators=100, n_jobs=0, num_parallel_tree=1,\n",
      "              objective='binary:logistic', random_state=101, reg_alpha=0,\n",
      "              reg_lambda=1, scale_pos_weight=1, subsample=1, tree_method=None,\n",
      "              validate_parameters=False, verbosity=None)\n"
     ]
    }
   ],
   "source": [
    "print(pipe_xgb.steps[2][1])"
   ]
  },
  {
   "cell_type": "code",
   "execution_count": 19,
   "metadata": {},
   "outputs": [
    {
     "data": {
      "text/plain": [
       "Pipeline(memory=None,\n",
       "         steps=[('std_scl',\n",
       "                 StandardScaler(copy=True, with_mean=True, with_std=True)),\n",
       "                ('pca',\n",
       "                 PCA(copy=True, iterated_power='auto', n_components=10,\n",
       "                     random_state=None, svd_solver='auto', tol=0.0,\n",
       "                     whiten=False)),\n",
       "                ('xgb',\n",
       "                 XGBClassifier(base_score=0.5, booster=None,\n",
       "                               colsample_bylevel=1, colsample_bynode=1,\n",
       "                               colsample_bytree=1, gamma=0, gpu_id=-1,\n",
       "                               importance_t...\n",
       "                               interaction_constraints=None,\n",
       "                               learning_rate=0.300000012, max_delta_step=0,\n",
       "                               max_depth=6, min_child_weight=1, missing=nan,\n",
       "                               monotone_constraints=None, n_estimators=100,\n",
       "                               n_jobs=0, num_parallel_tree=1,\n",
       "                               objective='binary:logistic', random_state=101,\n",
       "                               reg_alpha=0, reg_lambda=1, scale_pos_weight=1,\n",
       "                               subsample=1, tree_method=None,\n",
       "                               validate_parameters=False, verbosity=None))],\n",
       "         verbose=False)"
      ]
     },
     "execution_count": 19,
     "metadata": {},
     "output_type": "execute_result"
    }
   ],
   "source": [
    "pipe_xgb"
   ]
  },
  {
   "cell_type": "code",
   "execution_count": 20,
   "metadata": {},
   "outputs": [
    {
     "name": "stdout",
     "output_type": "stream",
     "text": [
      "          P Female  P Male\n",
      "A Female      1121       0\n",
      "A Male           0    1096\n",
      "              precision    recall  f1-score   support\n",
      "\n",
      "           0       1.00      1.00      1.00      1121\n",
      "           1       1.00      1.00      1.00      1096\n",
      "\n",
      "    accuracy                           1.00      2217\n",
      "   macro avg       1.00      1.00      1.00      2217\n",
      "weighted avg       1.00      1.00      1.00      2217\n",
      "\n"
     ]
    }
   ],
   "source": [
    "predict = pipe_xgb.predict(X_train)\n",
    "\n",
    "con = pd.DataFrame(data=confusion_matrix(y_train,predict), columns=['P Female', 'P Male'], index=['A Female', 'A Male']);\n",
    "print(con)\n",
    "print(classification_report(y_train, predict))"
   ]
  },
  {
   "cell_type": "code",
   "execution_count": 21,
   "metadata": {},
   "outputs": [
    {
     "name": "stdout",
     "output_type": "stream",
     "text": [
      "          P Female  P Male\n",
      "A Female       450      13\n",
      "A Male          15     473\n",
      "              precision    recall  f1-score   support\n",
      "\n",
      "           0       0.97      0.97      0.97       463\n",
      "           1       0.97      0.97      0.97       488\n",
      "\n",
      "    accuracy                           0.97       951\n",
      "   macro avg       0.97      0.97      0.97       951\n",
      "weighted avg       0.97      0.97      0.97       951\n",
      "\n"
     ]
    }
   ],
   "source": [
    "predict = pipe_xgb.predict(X_test)\n",
    "\n",
    "con = pd.DataFrame(data=confusion_matrix(y_test,predict), columns=['P Female', 'P Male'], index=['A Female', 'A Male']);\n",
    "print(con)\n",
    "print(classification_report(y_test, predict))"
   ]
  },
  {
   "cell_type": "code",
   "execution_count": 13,
   "metadata": {},
   "outputs": [
    {
     "data": {
      "text/plain": [
       "array([0.19969513, 0.12042683, 0.03048781, 0.14176829, 0.19664635,\n",
       "       0.06097561, 0.08384147, 0.01829268, 0.12347561, 0.02439024],\n",
       "      dtype=float32)"
      ]
     },
     "execution_count": 13,
     "metadata": {},
     "output_type": "execute_result"
    }
   ],
   "source": [
    "pipe_xgb.steps[2][1].feature_importances_"
   ]
  },
  {
   "cell_type": "markdown",
   "metadata": {},
   "source": [
    "## Cross Validation Score"
   ]
  },
  {
   "cell_type": "code",
   "execution_count": 31,
   "metadata": {},
   "outputs": [
    {
     "name": "stdout",
     "output_type": "stream",
     "text": [
      "Cross validation scores: [0.99561688 0.99586039 0.99512987 0.99837662 0.99805195 0.99545455\n",
      " 0.99805147 0.99303735 0.99500328 0.98828637]\n"
     ]
    },
    {
     "data": {
      "image/png": "[encoded data removed]",
      "text/plain": [
       "<Figure size 432x288 with 1 Axes>"
      ]
     },
     "metadata": {
      "needs_background": "light"
     },
     "output_type": "display_data"
    }
   ],
   "source": [
    "from sklearn.model_selection import cross_val_score\n",
    "\n",
    "scores = cross_val_score(estimator=pipe_xgb,\n",
    "                        X=X_train,\n",
    "                        y=y_train,\n",
    "                        cv=10,\n",
    "                        n_jobs=1,\n",
    "                        scoring = 'roc_auc')\n",
    "\n",
    "print('Cross validation scores: {}'.format(scores))\n",
    "\n",
    "plt.title('Cross validation scores')\n",
    "plt.scatter(np.arange(len(scores)), scores)\n",
    "plt.axhline(y=np.mean(scores), color='g') # Mean value of cross validation scores\n",
    "plt.show()"
   ]
  },
  {
   "cell_type": "markdown",
   "metadata": {},
   "source": [
    "## Learning Curve"
   ]
  },
  {
   "cell_type": "code",
   "execution_count": 33,
   "metadata": {},
   "outputs": [
    {
     "name": "stdout",
     "output_type": "stream",
     "text": [
      "train scores:\n",
      "[[1. 1. 1. 1. 1. 1. 1. 1. 1. 1.]\n",
      " [1. 1. 1. 1. 1. 1. 1. 1. 1. 1.]\n",
      " [1. 1. 1. 1. 1. 1. 1. 1. 1. 1.]\n",
      " [1. 1. 1. 1. 1. 1. 1. 1. 1. 1.]\n",
      " [1. 1. 1. 1. 1. 1. 1. 1. 1. 1.]]\n",
      "train mean:\n",
      "[1. 1. 1. 1. 1.]\n",
      "train sizes:\n",
      "[1425 1781 2138 2494 2851]\n"
     ]
    },
    {
     "data": {
      "image/png": "[encoded data removed]",
      "text/plain": [
       "<Figure size 432x288 with 1 Axes>"
      ]
     },
     "metadata": {
      "needs_background": "light"
     },
     "output_type": "display_data"
    }
   ],
   "source": [
    "from sklearn.model_selection import learning_curve\n",
    "\n",
    "train_sizes, train_scores, test_scores = learning_curve(estimator=pipe_xgb,\n",
    "                                                       X=data,\n",
    "                                                       y=target,\n",
    "                                                       train_sizes=np.linspace(0.5, 1.0, 5),\n",
    "                                                       cv=10)\n",
    "print('train scores:')\n",
    "print(train_scores)\n",
    "# Mean value of accuracy against training data\n",
    "train_mean = np.mean(train_scores, axis=1)\n",
    "print('train mean:')\n",
    "print(train_mean)\n",
    "# Standard deviation of training accuracy per number of training samples\n",
    "train_std = np.std(train_scores, axis=1)\n",
    "print('train std:')\n",
    "print(train_std)\n",
    "print('train sizes:')\n",
    "print(train_sizes)\n",
    "\n",
    "# Same as above for test data\n",
    "test_mean = np.mean(test_scores, axis=1)\n",
    "test_std = np.std(test_scores, axis=1)\n",
    "print('test scores:')\n",
    "print(test_scores)\n",
    "print('test mean:')\n",
    "print(test_mean)\n",
    "print('test std:')\n",
    "print(test_std)\n",
    "\n",
    "# Plot training accuracies \n",
    "plt.plot(train_sizes, train_mean, color='red', marker='o', label='Training Accuracy')\n",
    "# Plot the variance of training accuracies\n",
    "plt.fill_between(train_sizes,\n",
    "                train_mean + train_std,\n",
    "                train_mean - train_std,\n",
    "                alpha=0.15, color='red')\n",
    "\n",
    "# Plot for test data as training data\n",
    "plt.plot(train_sizes, test_mean, color='blue', linestyle='--', marker='s', \n",
    "        label='Test Accuracy')\n",
    "plt.fill_between(train_sizes,\n",
    "                test_mean + test_std,\n",
    "                test_mean - test_std,\n",
    "                alpha=0.15, color='blue')\n",
    "\n",
    "plt.xlabel('Number of training samples')\n",
    "plt.ylabel('Accuracy')\n",
    "plt.legend()\n",
    "plt.show()"
   ]
  },
  {
   "cell_type": "markdown",
   "metadata": {},
   "source": [
    "- perbandingannya 4:6\n",
    "- pengikatan data berpengaruh terhadap peningkatan akurasi model"
   ]
  },
  {
   "cell_type": "markdown",
   "metadata": {},
   "source": [
    "# Gridsearch"
   ]
  },
  {
   "cell_type": "code",
   "execution_count": 34,
   "metadata": {},
   "outputs": [
    {
     "name": "stdout",
     "output_type": "stream",
     "text": [
      "0.980149675635003\n",
      "{'learning_rate': 0.12, 'n_estimators': 100}\n"
     ]
    }
   ],
   "source": [
    "from sklearn.model_selection import GridSearchCV\n",
    "\n",
    "param_learning = (0.12, 0.1, 0.08, 0.06)\n",
    "param_estimator = (80,100,120,140)\n",
    "param_grid = {'learning_rate': param_learning, 'n_estimators':param_estimator}\n",
    "\n",
    "gs = GridSearchCV(pipe_xgb.steps[2][1],param_grid,scoring='accuracy')\n",
    "\n",
    "# Training and searching hyper parameter space and evaluating model\n",
    "# by using cross validation logic folded into 10\n",
    "gs = gs.fit(X_train, y_train)\n",
    "\n",
    "print(gs.best_score_)\n",
    "print(gs.best_params_)"
   ]
  },
  {
   "cell_type": "code",
   "execution_count": 35,
   "metadata": {},
   "outputs": [
    {
     "name": "stdout",
     "output_type": "stream",
     "text": [
      "Test Accuracy: 0.972\n"
     ]
    }
   ],
   "source": [
    "pipe_xgb = Pipeline([('std_scl', StandardScaler()), \n",
    "                    ('pca', PCA(n_components=10)),\n",
    "                    ('xgb', XGBClassifier(random_state=101, n_estimators=120))])\n",
    "\n",
    "pipe_xgb.fit(X_train, y_train)\n",
    "\n",
    "print('Test Accuracy: %.3f' % pipe_xgb.score(X_test, y_test))"
   ]
  },
  {
   "cell_type": "code",
   "execution_count": 36,
   "metadata": {},
   "outputs": [
    {
     "name": "stdout",
     "output_type": "stream",
     "text": [
      "          P Female  P Male\n",
      "A Female       450      13\n",
      "A Male          14     474\n",
      "              precision    recall  f1-score   support\n",
      "\n",
      "           0       0.97      0.97      0.97       463\n",
      "           1       0.97      0.97      0.97       488\n",
      "\n",
      "    accuracy                           0.97       951\n",
      "   macro avg       0.97      0.97      0.97       951\n",
      "weighted avg       0.97      0.97      0.97       951\n",
      "\n"
     ]
    }
   ],
   "source": [
    "predict = pipe_xgb.predict(X_test)\n",
    "\n",
    "con = pd.DataFrame(data=confusion_matrix(y_test,predict), columns=['P Female', 'P Male'], index=['A Female', 'A Male']);\n",
    "print(con)\n",
    "print(classification_report(y_test, predict))"
   ]
  },
  {
   "cell_type": "markdown",
   "metadata": {},
   "source": [
    "# Model Deployment"
   ]
  },
  {
   "cell_type": "code",
   "execution_count": 37,
   "metadata": {},
   "outputs": [],
   "source": [
    "import pickle\n",
    "filename = 'pipe_voice_recog.sav';\n",
    "pickle.dump(pipe_xgb, open(filename, 'wb'))\n",
    "\n",
    "## ngedump tuh bisa nyimpen apapun"
   ]
  },
  {
   "cell_type": "code",
   "execution_count": null,
   "metadata": {},
   "outputs": [],
   "source": [
    "from sklearn.ensemble import GradientBoostingClassifier\n",
    "\n",
    "gbc = GradientBoostingClassifier(n_estimators = 120, learning_rate = 0.7)"
   ]
  }
 ],
 "metadata": {
  "kernelspec": {
   "display_name": "Python 3",
   "language": "python",
   "name": "python3"
  },
  "language_info": {
   "codemirror_mode": {
    "name": "ipython",
    "version": 3
   },
   "file_extension": ".py",
   "mimetype": "text/x-python",
   "name": "python",
   "nbconvert_exporter": "python",
   "pygments_lexer": "ipython3",
   "version": "3.7.4"
  }
 },
 "nbformat": 4,
 "nbformat_minor": 2
}
